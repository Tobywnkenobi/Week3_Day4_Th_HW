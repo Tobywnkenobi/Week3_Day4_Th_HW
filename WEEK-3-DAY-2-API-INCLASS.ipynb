{
 "cells": [
  {
   "cell_type": "markdown",
   "metadata": {},
   "source": [
    "# APIs\n"
   ]
  },
  {
   "cell_type": "markdown",
   "metadata": {},
   "source": [
    "## Tasks Today:\n",
    "1) <b>Requests and the pokemon API </b> <br>\n",
    " "
   ]
  },
  {
   "cell_type": "markdown",
   "metadata": {},
   "source": [
    "# working with APis"
   ]
  },
  {
   "cell_type": "markdown",
   "metadata": {},
   "source": [
    "<p> What exactly is an API? <br> <br>\n",
    "API is the acronym for Application Programming Interface, which is a software intermediary that allows two applications to talk to each other. Each time you use an app like Facebook, send an instant message, or check the weather on your phone, you're using an API. </p>"
   ]
  },
  {
   "cell_type": "markdown",
   "metadata": {},
   "source": [
    "### The Poke API  allows you to retreive a pokemon's information from PokeAPI https://pokeapi.co/\n",
    "\n"
   ]
  },
  {
   "cell_type": "code",
   "execution_count": 40,
   "metadata": {},
   "outputs": [
    {
     "name": "stdout",
     "output_type": "stream",
     "text": [
      "ERROR, STATUS CODE 404\n"
     ]
    }
   ],
   "source": [
    "# making an API call\n",
    "import requests\n",
    "\n",
    "pokemon = input('What pokemon do you want information for?')\n",
    "\n",
    "response = requests.get(f'https://pokeapi.co/api/v2/pokemon/{pokemon}')\n",
    "\n",
    "if response.status_code == 200:\n",
    "    print('SUCCESS')\n",
    "    data = response.json()\n",
    "else:\n",
    "    print(f'ERROR, STATUS CODE {response.status_code}')"
   ]
  },
  {
   "cell_type": "code",
   "execution_count": 41,
   "metadata": {},
   "outputs": [
    {
     "name": "stdout",
     "output_type": "stream",
     "text": [
      "mew\n"
     ]
    }
   ],
   "source": [
    "print(data['name'])"
   ]
  },
  {
   "cell_type": "markdown",
   "metadata": {},
   "source": [
    "### Display a Pokemon's name, weight, abilities, and types"
   ]
  },
  {
   "cell_type": "code",
   "execution_count": 42,
   "metadata": {},
   "outputs": [
    {
     "name": "stdout",
     "output_type": "stream",
     "text": [
      "mew\n"
     ]
    }
   ],
   "source": [
    "# get the name\n",
    "name = data['name']\n",
    "print(name)"
   ]
  },
  {
   "cell_type": "code",
   "execution_count": 43,
   "metadata": {},
   "outputs": [
    {
     "data": {
      "text/plain": [
       "[{'slot': 1,\n",
       "  'type': {'name': 'psychic', 'url': 'https://pokeapi.co/api/v2/type/14/'}}]"
      ]
     },
     "execution_count": 43,
     "metadata": {},
     "output_type": "execute_result"
    }
   ],
   "source": [
    "# get types\n",
    "data['types']"
   ]
  },
  {
   "cell_type": "code",
   "execution_count": 44,
   "metadata": {},
   "outputs": [
    {
     "data": {
      "text/plain": [
       "40"
      ]
     },
     "execution_count": 44,
     "metadata": {},
     "output_type": "execute_result"
    }
   ],
   "source": [
    "# get weight\n",
    "data['weight']"
   ]
  },
  {
   "cell_type": "code",
   "execution_count": 45,
   "metadata": {},
   "outputs": [
    {
     "data": {
      "text/plain": [
       "[{'ability': {'name': 'synchronize',\n",
       "   'url': 'https://pokeapi.co/api/v2/ability/28/'},\n",
       "  'is_hidden': False,\n",
       "  'slot': 1}]"
      ]
     },
     "execution_count": 45,
     "metadata": {},
     "output_type": "execute_result"
    }
   ],
   "source": [
    "# get abilities\n",
    "data['abilities']"
   ]
  },
  {
   "cell_type": "code",
   "execution_count": 46,
   "metadata": {},
   "outputs": [],
   "source": [
    "ability_names = [item['ability']['name'] for item in data['abilities']]"
   ]
  },
  {
   "cell_type": "code",
   "execution_count": 47,
   "metadata": {},
   "outputs": [
    {
     "data": {
      "text/plain": [
       "['synchronize']"
      ]
     },
     "execution_count": 47,
     "metadata": {},
     "output_type": "execute_result"
    }
   ],
   "source": [
    "ability_names"
   ]
  },
  {
   "cell_type": "code",
   "execution_count": 48,
   "metadata": {},
   "outputs": [],
   "source": [
    "# Create a structure for a single pokemon\n",
    "pokemon = {\n",
    "    'abilities': ability_names,\n",
    "    'name': data['name'],\n",
    "    'types': data['types'],\n",
    "    'weight': data['weight']\n",
    "}"
   ]
  },
  {
   "cell_type": "code",
   "execution_count": 49,
   "metadata": {},
   "outputs": [
    {
     "data": {
      "text/plain": [
       "{'abilities': ['synchronize'],\n",
       " 'name': 'mew',\n",
       " 'types': [{'slot': 1,\n",
       "   'type': {'name': 'psychic', 'url': 'https://pokeapi.co/api/v2/type/14/'}}],\n",
       " 'weight': 40}"
      ]
     },
     "execution_count": 49,
     "metadata": {},
     "output_type": "execute_result"
    }
   ],
   "source": [
    "pokemon"
   ]
  },
  {
   "cell_type": "markdown",
   "metadata": {},
   "source": [
    "#### Create a function to Pull in your own Pokemon's data "
   ]
  },
  {
   "cell_type": "code",
   "execution_count": 50,
   "metadata": {},
   "outputs": [],
   "source": [
    "# Create a function that does the following:\n",
    "# Asks a user to input a pokemon name\n",
    "# Requests the poke api for that pokemon's information\n",
    "# Creates the dictionary from above with that pokemons information\n",
    "    # In addition to the above keys, include the height and the \"front_default\" sprite\n",
    "# Returns the dictionary\n",
    "\n",
    "def poke_api_call(pokemon=None):\n",
    "    if not pokemon:\n",
    "        pokemon = input('What pokemon do you want to select?')\n",
    "    \n",
    "    response = requests.get(f'https://pokeapi.co/api/v2/pokemon/{pokemon}')\n",
    "\n",
    "    if response.status_code == 200:\n",
    "        print('SUCCESS')\n",
    "        data = response.json()\n",
    "    else:\n",
    "        print(f'ERROR, STATUS CODE {response.status_code}')\n",
    "        return 'Error'\n",
    "    \n",
    "    ability_names = [item['ability']['name'] for item in data['abilities']]\n",
    "    \n",
    "    poke_dict = {\n",
    "        'abilities': ability_names,\n",
    "        'name': data['name'],\n",
    "        'types': data['types'],\n",
    "        'weight': data['weight'],\n",
    "        'height': data['height'],\n",
    "        'sprite': data['sprites']['front_default']\n",
    "    }\n",
    "    \n",
    "    return poke_dict"
   ]
  },
  {
   "cell_type": "code",
   "execution_count": 51,
   "metadata": {},
   "outputs": [
    {
     "name": "stdout",
     "output_type": "stream",
     "text": [
      "SUCCESS\n"
     ]
    },
    {
     "data": {
      "text/plain": [
       "{'abilities': ['static', 'lightning-rod'],\n",
       " 'name': 'pikachu',\n",
       " 'types': [{'slot': 1,\n",
       "   'type': {'name': 'electric', 'url': 'https://pokeapi.co/api/v2/type/13/'}}],\n",
       " 'weight': 60,\n",
       " 'height': 4,\n",
       " 'sprite': 'https://raw.githubusercontent.com/PokeAPI/sprites/master/sprites/pokemon/25.png'}"
      ]
     },
     "execution_count": 51,
     "metadata": {},
     "output_type": "execute_result"
    }
   ],
   "source": [
    "poke_api_call('pikachu')"
   ]
  },
  {
   "cell_type": "code",
   "execution_count": null,
   "metadata": {},
   "outputs": [],
   "source": []
  },
  {
   "cell_type": "markdown",
   "metadata": {},
   "source": [
    "Choose your pokemon"
   ]
  },
  {
   "cell_type": "code",
   "execution_count": 52,
   "metadata": {},
   "outputs": [
    {
     "name": "stdout",
     "output_type": "stream",
     "text": [
      "SUCCESS\n",
      "SUCCESS\n",
      "SUCCESS\n",
      "SUCCESS\n",
      "SUCCESS\n",
      "SUCCESS\n"
     ]
    }
   ],
   "source": [
    "from random import randint\n",
    "# Random number generated for each pokemon id\n",
    "random_team = [randint(1,898) for i in range(6)]\n",
    "\n",
    "your_team = ['electabuzz', 'haunter','tyranitar','blaziken','marowak','dragonair']\n",
    "\n",
    "\n",
    "your_team_pokemon = []\n",
    "\n",
    "for teammate in your_team:\n",
    "    your_team_pokemon.append(poke_api_call(teammate))"
   ]
  },
  {
   "cell_type": "code",
   "execution_count": 53,
   "metadata": {},
   "outputs": [
    {
     "name": "stdout",
     "output_type": "stream",
     "text": [
      "SUCCESS\n",
      "SUCCESS\n",
      "SUCCESS\n",
      "SUCCESS\n",
      "SUCCESS\n",
      "SUCCESS\n"
     ]
    },
    {
     "data": {
      "text/plain": [
       "[{'abilities': ['static', 'vital-spirit'],\n",
       "  'name': 'electabuzz',\n",
       "  'types': [{'slot': 1,\n",
       "    'type': {'name': 'electric',\n",
       "     'url': 'https://pokeapi.co/api/v2/type/13/'}}],\n",
       "  'weight': 300,\n",
       "  'height': 11,\n",
       "  'sprite': 'https://raw.githubusercontent.com/PokeAPI/sprites/master/sprites/pokemon/125.png'},\n",
       " {'abilities': ['levitate'],\n",
       "  'name': 'haunter',\n",
       "  'types': [{'slot': 1,\n",
       "    'type': {'name': 'ghost', 'url': 'https://pokeapi.co/api/v2/type/8/'}},\n",
       "   {'slot': 2,\n",
       "    'type': {'name': 'poison', 'url': 'https://pokeapi.co/api/v2/type/4/'}}],\n",
       "  'weight': 1,\n",
       "  'height': 16,\n",
       "  'sprite': 'https://raw.githubusercontent.com/PokeAPI/sprites/master/sprites/pokemon/93.png'},\n",
       " {'abilities': ['sand-stream', 'unnerve'],\n",
       "  'name': 'tyranitar',\n",
       "  'types': [{'slot': 1,\n",
       "    'type': {'name': 'rock', 'url': 'https://pokeapi.co/api/v2/type/6/'}},\n",
       "   {'slot': 2,\n",
       "    'type': {'name': 'dark', 'url': 'https://pokeapi.co/api/v2/type/17/'}}],\n",
       "  'weight': 2020,\n",
       "  'height': 20,\n",
       "  'sprite': 'https://raw.githubusercontent.com/PokeAPI/sprites/master/sprites/pokemon/248.png'},\n",
       " {'abilities': ['blaze', 'speed-boost'],\n",
       "  'name': 'blaziken',\n",
       "  'types': [{'slot': 1,\n",
       "    'type': {'name': 'fire', 'url': 'https://pokeapi.co/api/v2/type/10/'}},\n",
       "   {'slot': 2,\n",
       "    'type': {'name': 'fighting', 'url': 'https://pokeapi.co/api/v2/type/2/'}}],\n",
       "  'weight': 520,\n",
       "  'height': 19,\n",
       "  'sprite': 'https://raw.githubusercontent.com/PokeAPI/sprites/master/sprites/pokemon/257.png'},\n",
       " {'abilities': ['rock-head', 'lightning-rod', 'battle-armor'],\n",
       "  'name': 'marowak',\n",
       "  'types': [{'slot': 1,\n",
       "    'type': {'name': 'ground', 'url': 'https://pokeapi.co/api/v2/type/5/'}}],\n",
       "  'weight': 450,\n",
       "  'height': 10,\n",
       "  'sprite': 'https://raw.githubusercontent.com/PokeAPI/sprites/master/sprites/pokemon/105.png'},\n",
       " {'abilities': ['shed-skin', 'marvel-scale'],\n",
       "  'name': 'dragonair',\n",
       "  'types': [{'slot': 1,\n",
       "    'type': {'name': 'dragon', 'url': 'https://pokeapi.co/api/v2/type/16/'}}],\n",
       "  'weight': 165,\n",
       "  'height': 40,\n",
       "  'sprite': 'https://raw.githubusercontent.com/PokeAPI/sprites/master/sprites/pokemon/148.png'}]"
      ]
     },
     "execution_count": 53,
     "metadata": {},
     "output_type": "execute_result"
    }
   ],
   "source": [
    "list(map(poke_api_call, your_team))"
   ]
  },
  {
   "cell_type": "code",
   "execution_count": 54,
   "metadata": {},
   "outputs": [
    {
     "data": {
      "text/plain": [
       "[{'abilities': ['static', 'vital-spirit'],\n",
       "  'name': 'electabuzz',\n",
       "  'types': [{'slot': 1,\n",
       "    'type': {'name': 'electric',\n",
       "     'url': 'https://pokeapi.co/api/v2/type/13/'}}],\n",
       "  'weight': 300,\n",
       "  'height': 11,\n",
       "  'sprite': 'https://raw.githubusercontent.com/PokeAPI/sprites/master/sprites/pokemon/125.png'},\n",
       " {'abilities': ['levitate'],\n",
       "  'name': 'haunter',\n",
       "  'types': [{'slot': 1,\n",
       "    'type': {'name': 'ghost', 'url': 'https://pokeapi.co/api/v2/type/8/'}},\n",
       "   {'slot': 2,\n",
       "    'type': {'name': 'poison', 'url': 'https://pokeapi.co/api/v2/type/4/'}}],\n",
       "  'weight': 1,\n",
       "  'height': 16,\n",
       "  'sprite': 'https://raw.githubusercontent.com/PokeAPI/sprites/master/sprites/pokemon/93.png'},\n",
       " {'abilities': ['sand-stream', 'unnerve'],\n",
       "  'name': 'tyranitar',\n",
       "  'types': [{'slot': 1,\n",
       "    'type': {'name': 'rock', 'url': 'https://pokeapi.co/api/v2/type/6/'}},\n",
       "   {'slot': 2,\n",
       "    'type': {'name': 'dark', 'url': 'https://pokeapi.co/api/v2/type/17/'}}],\n",
       "  'weight': 2020,\n",
       "  'height': 20,\n",
       "  'sprite': 'https://raw.githubusercontent.com/PokeAPI/sprites/master/sprites/pokemon/248.png'},\n",
       " {'abilities': ['blaze', 'speed-boost'],\n",
       "  'name': 'blaziken',\n",
       "  'types': [{'slot': 1,\n",
       "    'type': {'name': 'fire', 'url': 'https://pokeapi.co/api/v2/type/10/'}},\n",
       "   {'slot': 2,\n",
       "    'type': {'name': 'fighting', 'url': 'https://pokeapi.co/api/v2/type/2/'}}],\n",
       "  'weight': 520,\n",
       "  'height': 19,\n",
       "  'sprite': 'https://raw.githubusercontent.com/PokeAPI/sprites/master/sprites/pokemon/257.png'},\n",
       " {'abilities': ['rock-head', 'lightning-rod', 'battle-armor'],\n",
       "  'name': 'marowak',\n",
       "  'types': [{'slot': 1,\n",
       "    'type': {'name': 'ground', 'url': 'https://pokeapi.co/api/v2/type/5/'}}],\n",
       "  'weight': 450,\n",
       "  'height': 10,\n",
       "  'sprite': 'https://raw.githubusercontent.com/PokeAPI/sprites/master/sprites/pokemon/105.png'},\n",
       " {'abilities': ['shed-skin', 'marvel-scale'],\n",
       "  'name': 'dragonair',\n",
       "  'types': [{'slot': 1,\n",
       "    'type': {'name': 'dragon', 'url': 'https://pokeapi.co/api/v2/type/16/'}}],\n",
       "  'weight': 165,\n",
       "  'height': 40,\n",
       "  'sprite': 'https://raw.githubusercontent.com/PokeAPI/sprites/master/sprites/pokemon/148.png'}]"
      ]
     },
     "execution_count": 54,
     "metadata": {},
     "output_type": "execute_result"
    }
   ],
   "source": [
    "your_team_pokemon"
   ]
  },
  {
   "cell_type": "code",
   "execution_count": 55,
   "metadata": {},
   "outputs": [
    {
     "data": {
      "text/plain": [
       "[234, 782, 550, 343, 645, 153]"
      ]
     },
     "execution_count": 55,
     "metadata": {},
     "output_type": "execute_result"
    }
   ],
   "source": [
    "random_team"
   ]
  },
  {
   "cell_type": "code",
   "execution_count": 56,
   "metadata": {},
   "outputs": [
    {
     "name": "stdout",
     "output_type": "stream",
     "text": [
      "SUCCESS\n",
      "SUCCESS\n",
      "SUCCESS\n",
      "SUCCESS\n",
      "SUCCESS\n",
      "SUCCESS\n"
     ]
    }
   ],
   "source": [
    "random_team_pokemon = []\n",
    "\n",
    "for teammate in random_team:\n",
    "    random_team_pokemon.append(poke_api_call(teammate))"
   ]
  },
  {
   "cell_type": "code",
   "execution_count": 57,
   "metadata": {},
   "outputs": [
    {
     "data": {
      "text/plain": [
       "[{'abilities': ['intimidate', 'frisk', 'sap-sipper'],\n",
       "  'name': 'stantler',\n",
       "  'types': [{'slot': 1,\n",
       "    'type': {'name': 'normal', 'url': 'https://pokeapi.co/api/v2/type/1/'}}],\n",
       "  'weight': 712,\n",
       "  'height': 14,\n",
       "  'sprite': 'https://raw.githubusercontent.com/PokeAPI/sprites/master/sprites/pokemon/234.png'},\n",
       " {'abilities': ['bulletproof', 'soundproof', 'overcoat'],\n",
       "  'name': 'jangmo-o',\n",
       "  'types': [{'slot': 1,\n",
       "    'type': {'name': 'dragon', 'url': 'https://pokeapi.co/api/v2/type/16/'}}],\n",
       "  'weight': 297,\n",
       "  'height': 6,\n",
       "  'sprite': 'https://raw.githubusercontent.com/PokeAPI/sprites/master/sprites/pokemon/782.png'},\n",
       " {'abilities': ['reckless', 'adaptability', 'mold-breaker'],\n",
       "  'name': 'basculin-red-striped',\n",
       "  'types': [{'slot': 1,\n",
       "    'type': {'name': 'water', 'url': 'https://pokeapi.co/api/v2/type/11/'}}],\n",
       "  'weight': 180,\n",
       "  'height': 10,\n",
       "  'sprite': 'https://raw.githubusercontent.com/PokeAPI/sprites/master/sprites/pokemon/550.png'},\n",
       " {'abilities': ['levitate'],\n",
       "  'name': 'baltoy',\n",
       "  'types': [{'slot': 1,\n",
       "    'type': {'name': 'ground', 'url': 'https://pokeapi.co/api/v2/type/5/'}},\n",
       "   {'slot': 2,\n",
       "    'type': {'name': 'psychic', 'url': 'https://pokeapi.co/api/v2/type/14/'}}],\n",
       "  'weight': 215,\n",
       "  'height': 5,\n",
       "  'sprite': 'https://raw.githubusercontent.com/PokeAPI/sprites/master/sprites/pokemon/343.png'},\n",
       " {'abilities': ['sand-force', 'sheer-force'],\n",
       "  'name': 'landorus-incarnate',\n",
       "  'types': [{'slot': 1,\n",
       "    'type': {'name': 'ground', 'url': 'https://pokeapi.co/api/v2/type/5/'}},\n",
       "   {'slot': 2,\n",
       "    'type': {'name': 'flying', 'url': 'https://pokeapi.co/api/v2/type/3/'}}],\n",
       "  'weight': 680,\n",
       "  'height': 15,\n",
       "  'sprite': 'https://raw.githubusercontent.com/PokeAPI/sprites/master/sprites/pokemon/645.png'},\n",
       " {'abilities': ['overgrow', 'leaf-guard'],\n",
       "  'name': 'bayleef',\n",
       "  'types': [{'slot': 1,\n",
       "    'type': {'name': 'grass', 'url': 'https://pokeapi.co/api/v2/type/12/'}}],\n",
       "  'weight': 158,\n",
       "  'height': 12,\n",
       "  'sprite': 'https://raw.githubusercontent.com/PokeAPI/sprites/master/sprites/pokemon/153.png'}]"
      ]
     },
     "execution_count": 57,
     "metadata": {},
     "output_type": "execute_result"
    }
   ],
   "source": [
    "random_team_pokemon"
   ]
  },
  {
   "cell_type": "markdown",
   "metadata": {},
   "source": [
    "#### Use your function to create a dictionary of your Johto League 6  (favorite 6 pokemon)"
   ]
  },
  {
   "cell_type": "code",
   "execution_count": 58,
   "metadata": {},
   "outputs": [
    {
     "name": "stdout",
     "output_type": "stream",
     "text": [
      "SUCCESS\n",
      "SUCCESS\n",
      "SUCCESS\n",
      "SUCCESS\n",
      "SUCCESS\n",
      "SUCCESS\n"
     ]
    }
   ],
   "source": [
    "# Place all 6 of your pokemon on the object below, each pokemon should have at least as much info as Pikachu did.\n",
    "my_six_pokemon = {}\n",
    "\n",
    "for teammate in your_team:\n",
    "    my_six_pokemon[teammate] = poke_api_call(teammate)"
   ]
  },
  {
   "cell_type": "code",
   "execution_count": 59,
   "metadata": {},
   "outputs": [
    {
     "data": {
      "text/plain": [
       "{'electabuzz': {'abilities': ['static', 'vital-spirit'],\n",
       "  'name': 'electabuzz',\n",
       "  'types': [{'slot': 1,\n",
       "    'type': {'name': 'electric',\n",
       "     'url': 'https://pokeapi.co/api/v2/type/13/'}}],\n",
       "  'weight': 300,\n",
       "  'height': 11,\n",
       "  'sprite': 'https://raw.githubusercontent.com/PokeAPI/sprites/master/sprites/pokemon/125.png'},\n",
       " 'haunter': {'abilities': ['levitate'],\n",
       "  'name': 'haunter',\n",
       "  'types': [{'slot': 1,\n",
       "    'type': {'name': 'ghost', 'url': 'https://pokeapi.co/api/v2/type/8/'}},\n",
       "   {'slot': 2,\n",
       "    'type': {'name': 'poison', 'url': 'https://pokeapi.co/api/v2/type/4/'}}],\n",
       "  'weight': 1,\n",
       "  'height': 16,\n",
       "  'sprite': 'https://raw.githubusercontent.com/PokeAPI/sprites/master/sprites/pokemon/93.png'},\n",
       " 'tyranitar': {'abilities': ['sand-stream', 'unnerve'],\n",
       "  'name': 'tyranitar',\n",
       "  'types': [{'slot': 1,\n",
       "    'type': {'name': 'rock', 'url': 'https://pokeapi.co/api/v2/type/6/'}},\n",
       "   {'slot': 2,\n",
       "    'type': {'name': 'dark', 'url': 'https://pokeapi.co/api/v2/type/17/'}}],\n",
       "  'weight': 2020,\n",
       "  'height': 20,\n",
       "  'sprite': 'https://raw.githubusercontent.com/PokeAPI/sprites/master/sprites/pokemon/248.png'},\n",
       " 'blaziken': {'abilities': ['blaze', 'speed-boost'],\n",
       "  'name': 'blaziken',\n",
       "  'types': [{'slot': 1,\n",
       "    'type': {'name': 'fire', 'url': 'https://pokeapi.co/api/v2/type/10/'}},\n",
       "   {'slot': 2,\n",
       "    'type': {'name': 'fighting', 'url': 'https://pokeapi.co/api/v2/type/2/'}}],\n",
       "  'weight': 520,\n",
       "  'height': 19,\n",
       "  'sprite': 'https://raw.githubusercontent.com/PokeAPI/sprites/master/sprites/pokemon/257.png'},\n",
       " 'marowak': {'abilities': ['rock-head', 'lightning-rod', 'battle-armor'],\n",
       "  'name': 'marowak',\n",
       "  'types': [{'slot': 1,\n",
       "    'type': {'name': 'ground', 'url': 'https://pokeapi.co/api/v2/type/5/'}}],\n",
       "  'weight': 450,\n",
       "  'height': 10,\n",
       "  'sprite': 'https://raw.githubusercontent.com/PokeAPI/sprites/master/sprites/pokemon/105.png'},\n",
       " 'dragonair': {'abilities': ['shed-skin', 'marvel-scale'],\n",
       "  'name': 'dragonair',\n",
       "  'types': [{'slot': 1,\n",
       "    'type': {'name': 'dragon', 'url': 'https://pokeapi.co/api/v2/type/16/'}}],\n",
       "  'weight': 165,\n",
       "  'height': 40,\n",
       "  'sprite': 'https://raw.githubusercontent.com/PokeAPI/sprites/master/sprites/pokemon/148.png'}}"
      ]
     },
     "execution_count": 59,
     "metadata": {},
     "output_type": "execute_result"
    }
   ],
   "source": [
    "my_six_pokemon"
   ]
  },
  {
   "cell_type": "markdown",
   "metadata": {},
   "source": [
    "## Lets create a class called 'Pokemon' and create our pokemon as instances"
   ]
  },
  {
   "cell_type": "code",
   "execution_count": 60,
   "metadata": {},
   "outputs": [],
   "source": [
    "poke_dict = {\n",
    "    'abilities': ability_names,\n",
    "    'name': data['name'],\n",
    "    'types': data['types'],\n",
    "    'weight': data['weight'],\n",
    "    'height': data['height'],\n",
    "    'sprite': data['sprites']['front_default']\n",
    "}"
   ]
  },
  {
   "cell_type": "code",
   "execution_count": 61,
   "metadata": {},
   "outputs": [],
   "source": [
    "class Pokemon():\n",
    "    def __init__(self, name):\n",
    "        self.abilities = []\n",
    "        self.name = name\n",
    "        self.types = []\n",
    "        self.weight = None\n",
    "        self.height = None\n",
    "        self.sprite = None\n",
    "        self.poke_api_call()\n",
    "        \n",
    "    def poke_api_call(self):\n",
    "        response = requests.get(f'https://pokeapi.co/api/v2/pokemon/{self.name}')\n",
    "\n",
    "        if response.status_code == 200:\n",
    "            data = response.json()\n",
    "        else:\n",
    "            return 'Error'\n",
    "\n",
    "        ability_names = [item['ability']['name'] for item in data['abilities']]\n",
    "        \n",
    "        self.types = data['types']\n",
    "        self.abilities = ability_names\n",
    "        self.weight = data['weight']\n",
    "        self.height = data['height']\n",
    "        self.sprite = data['sprites']['front_default']\n",
    "        \n",
    "    def evolve(self):\n",
    "        new_poke = input(\"What pokemon should you evolve into?\")\n",
    "        self.name = new_poke\n",
    "        self.poke_api_call()"
   ]
  },
  {
   "cell_type": "code",
   "execution_count": 62,
   "metadata": {},
   "outputs": [],
   "source": [
    "pikachu = Pokemon('pikachu')"
   ]
  },
  {
   "cell_type": "code",
   "execution_count": 63,
   "metadata": {},
   "outputs": [
    {
     "name": "stdout",
     "output_type": "stream",
     "text": [
      "60\n"
     ]
    }
   ],
   "source": [
    "print(pikachu.weight)"
   ]
  },
  {
   "cell_type": "markdown",
   "metadata": {},
   "source": [
    "### Let's Catch some Pokemon"
   ]
  },
  {
   "cell_type": "code",
   "execution_count": null,
   "metadata": {},
   "outputs": [],
   "source": []
  },
  {
   "cell_type": "code",
   "execution_count": 64,
   "metadata": {},
   "outputs": [],
   "source": [
    "class Pokedex:\n",
    "    def __init__(self, player_name):\n",
    "        self.player_name = player_name\n",
    "        self.pokemon = {}\n",
    "        \n",
    "    def add_pokemon(self, name):\n",
    "        self.pokemon[name] = Pokemon(name)\n",
    "        print(f\"{name} was added to {self.player_name}'s pokedex.\")\n",
    "\n",
    "    # Add a pokemon lookup method to lookup a pokemon and display it's information (In a user friendly way)"
   ]
  },
  {
   "cell_type": "code",
   "execution_count": 65,
   "metadata": {},
   "outputs": [],
   "source": [
    "dylans_pokedex = Pokedex('dylan')"
   ]
  },
  {
   "cell_type": "code",
   "execution_count": 66,
   "metadata": {},
   "outputs": [
    {
     "name": "stdout",
     "output_type": "stream",
     "text": [
      "ho-oh was added to dylan's pokedex.\n"
     ]
    }
   ],
   "source": [
    "dylans_pokedex.add_pokemon('ho-oh')"
   ]
  },
  {
   "cell_type": "code",
   "execution_count": 67,
   "metadata": {},
   "outputs": [
    {
     "data": {
      "text/plain": [
       "{'ho-oh': <__main__.Pokemon at 0x26dfc3cf990>}"
      ]
     },
     "execution_count": 67,
     "metadata": {},
     "output_type": "execute_result"
    }
   ],
   "source": [
    "dylans_pokedex.pokemon"
   ]
  },
  {
   "cell_type": "markdown",
   "metadata": {},
   "source": [
    "## Exercise 1:"
   ]
  },
  {
   "cell_type": "markdown",
   "metadata": {},
   "source": [
    "### Create a Method prints an image of your pokemon\n",
    "\n",
    "<p>HINT: You may need another attribute as well to store your image url within. </p>"
   ]
  },
  {
   "cell_type": "code",
   "execution_count": 68,
   "metadata": {},
   "outputs": [
    {
     "data": {
      "image/png": "[encoded data removed]",
      "text/plain": [
       "<IPython.core.display.Image object>"
      ]
     },
     "metadata": {
      "image/png": {
       "width": 200
      }
     },
     "output_type": "display_data"
    }
   ],
   "source": [
    "# Display an image in Jupyter notebook\n",
    "from IPython.display import Image\n",
    "\n",
    "display(Image('https://raw.githubusercontent.com/PokeAPI/sprites/master/sprites/pokemon/245.png', width = 200))\n"
   ]
  },
  {
   "cell_type": "code",
   "execution_count": 69,
   "metadata": {},
   "outputs": [
    {
     "ename": "NameError",
     "evalue": "name 'get' is not defined",
     "output_type": "error",
     "traceback": [
      "\u001b[1;31m---------------------------------------------------------------------------\u001b[0m",
      "\u001b[1;31mNameError\u001b[0m                                 Traceback (most recent call last)",
      "\u001b[1;32mc:\\Users\\tobym\\Documents\\coding temple\\code\\CT2\\matrix130\\Week3\\Week3_Day4_Th_HW\\WEEK-3-DAY-2-API-INCLASS.ipynb Cell 45\u001b[0m line \u001b[0;36m8\n\u001b[0;32m     <a href='vscode-notebook-cell:/c%3A/Users/tobym/Documents/coding%20temple/code/CT2/matrix130/Week3/Week3_Day4_Th_HW/WEEK-3-DAY-2-API-INCLASS.ipynb#X62sZmlsZQ%3D%3D?line=76'>77</a>\u001b[0m             \u001b[39mprint\u001b[39m(\u001b[39mf\u001b[39m\u001b[39m'\u001b[39m\u001b[39mYou don\u001b[39m\u001b[39m\\'\u001b[39;00m\u001b[39mt have a Pokemon named \u001b[39m\u001b[39m{\u001b[39;00mpoke_to_evolve\u001b[39m}\u001b[39;00m\u001b[39m'\u001b[39m)\n\u001b[0;32m     <a href='vscode-notebook-cell:/c%3A/Users/tobym/Documents/coding%20temple/code/CT2/matrix130/Week3/Week3_Day4_Th_HW/WEEK-3-DAY-2-API-INCLASS.ipynb#X62sZmlsZQ%3D%3D?line=77'>78</a>\u001b[0m             \u001b[39mself\u001b[39m\u001b[39m.\u001b[39mpoke_evolve()\n\u001b[1;32m---> <a href='vscode-notebook-cell:/c%3A/Users/tobym/Documents/coding%20temple/code/CT2/matrix130/Week3/Week3_Day4_Th_HW/WEEK-3-DAY-2-API-INCLASS.ipynb#X62sZmlsZQ%3D%3D?line=79'>80</a>\u001b[0m psyduck \u001b[39m=\u001b[39m Pokemon(\u001b[39m'\u001b[39;49m\u001b[39mpsyduck\u001b[39;49m\u001b[39m'\u001b[39;49m)\n\u001b[0;32m     <a href='vscode-notebook-cell:/c%3A/Users/tobym/Documents/coding%20temple/code/CT2/matrix130/Week3/Week3_Day4_Th_HW/WEEK-3-DAY-2-API-INCLASS.ipynb#X62sZmlsZQ%3D%3D?line=80'>81</a>\u001b[0m \u001b[39mprint\u001b[39m(psyduck)\n\u001b[0;32m     <a href='vscode-notebook-cell:/c%3A/Users/tobym/Documents/coding%20temple/code/CT2/matrix130/Week3/Week3_Day4_Th_HW/WEEK-3-DAY-2-API-INCLASS.ipynb#X62sZmlsZQ%3D%3D?line=81'>82</a>\u001b[0m \u001b[39mprint\u001b[39m(psyduck\u001b[39m.\u001b[39mabilities)\n",
      "\u001b[1;32mc:\\Users\\tobym\\Documents\\coding temple\\code\\CT2\\matrix130\\Week3\\Week3_Day4_Th_HW\\WEEK-3-DAY-2-API-INCLASS.ipynb Cell 45\u001b[0m line \u001b[0;36m9\n\u001b[0;32m      <a href='vscode-notebook-cell:/c%3A/Users/tobym/Documents/coding%20temple/code/CT2/matrix130/Week3/Week3_Day4_Th_HW/WEEK-3-DAY-2-API-INCLASS.ipynb#X62sZmlsZQ%3D%3D?line=6'>7</a>\u001b[0m \u001b[39mself\u001b[39m\u001b[39m.\u001b[39mabilities \u001b[39m=\u001b[39m []\n\u001b[0;32m      <a href='vscode-notebook-cell:/c%3A/Users/tobym/Documents/coding%20temple/code/CT2/matrix130/Week3/Week3_Day4_Th_HW/WEEK-3-DAY-2-API-INCLASS.ipynb#X62sZmlsZQ%3D%3D?line=7'>8</a>\u001b[0m \u001b[39mself\u001b[39m\u001b[39m.\u001b[39mtypes \u001b[39m=\u001b[39m []\n\u001b[1;32m----> <a href='vscode-notebook-cell:/c%3A/Users/tobym/Documents/coding%20temple/code/CT2/matrix130/Week3/Week3_Day4_Th_HW/WEEK-3-DAY-2-API-INCLASS.ipynb#X62sZmlsZQ%3D%3D?line=8'>9</a>\u001b[0m \u001b[39mself\u001b[39;49m\u001b[39m.\u001b[39;49mpoke_api_call()\n",
      "\u001b[1;32mc:\\Users\\tobym\\Documents\\coding temple\\code\\CT2\\matrix130\\Week3\\Week3_Day4_Th_HW\\WEEK-3-DAY-2-API-INCLASS.ipynb Cell 45\u001b[0m line \u001b[0;36m1\n\u001b[0;32m     <a href='vscode-notebook-cell:/c%3A/Users/tobym/Documents/coding%20temple/code/CT2/matrix130/Week3/Week3_Day4_Th_HW/WEEK-3-DAY-2-API-INCLASS.ipynb#X62sZmlsZQ%3D%3D?line=13'>14</a>\u001b[0m \u001b[39mdef\u001b[39;00m \u001b[39mpoke_api_call\u001b[39m(\u001b[39mself\u001b[39m):\n\u001b[0;32m     <a href='vscode-notebook-cell:/c%3A/Users/tobym/Documents/coding%20temple/code/CT2/matrix130/Week3/Week3_Day4_Th_HW/WEEK-3-DAY-2-API-INCLASS.ipynb#X62sZmlsZQ%3D%3D?line=14'>15</a>\u001b[0m     \u001b[39mwhile\u001b[39;00m \u001b[39mTrue\u001b[39;00m:    \n\u001b[1;32m---> <a href='vscode-notebook-cell:/c%3A/Users/tobym/Documents/coding%20temple/code/CT2/matrix130/Week3/Week3_Day4_Th_HW/WEEK-3-DAY-2-API-INCLASS.ipynb#X62sZmlsZQ%3D%3D?line=15'>16</a>\u001b[0m         res \u001b[39m=\u001b[39m get(\u001b[39mf\u001b[39m\u001b[39m'\u001b[39m\u001b[39mhttps://pokeapi.co/api/v2/pokemon/\u001b[39m\u001b[39m{\u001b[39;00m\u001b[39mself\u001b[39m\u001b[39m.\u001b[39mname\u001b[39m}\u001b[39;00m\u001b[39m'\u001b[39m)\n\u001b[0;32m     <a href='vscode-notebook-cell:/c%3A/Users/tobym/Documents/coding%20temple/code/CT2/matrix130/Week3/Week3_Day4_Th_HW/WEEK-3-DAY-2-API-INCLASS.ipynb#X62sZmlsZQ%3D%3D?line=16'>17</a>\u001b[0m         \u001b[39mif\u001b[39;00m res\u001b[39m.\u001b[39mok:\n\u001b[0;32m     <a href='vscode-notebook-cell:/c%3A/Users/tobym/Documents/coding%20temple/code/CT2/matrix130/Week3/Week3_Day4_Th_HW/WEEK-3-DAY-2-API-INCLASS.ipynb#X62sZmlsZQ%3D%3D?line=17'>18</a>\u001b[0m             data \u001b[39m=\u001b[39m res\u001b[39m.\u001b[39mjson()\n",
      "\u001b[1;31mNameError\u001b[0m: name 'get' is not defined"
     ]
    }
   ],
   "source": [
    "# recreate your pokemon class here\n",
    "class Pokemon:\n",
    "    \n",
    "    def __init__(self, pokemon):\n",
    "        self.name = pokemon\n",
    "        self.weight = None\n",
    "        self.abilities = []\n",
    "        self.types = []\n",
    "        self.poke_api_call()\n",
    "        \n",
    "    def __repr__(self):\n",
    "        return f'<Pokemon: {self.name}>'\n",
    "\n",
    "    def poke_api_call(self):\n",
    "        while True:    \n",
    "            res = get(f'https://pokeapi.co/api/v2/pokemon/{self.name}')\n",
    "            if res.ok:\n",
    "                data = res.json()\n",
    "                self.name = data['name']\n",
    "                self.weight = data['weight']\n",
    "                self.abilities = [ability['ability']['name'] for ability in data['abilities']]\n",
    "                self.types = [poke_type['type']['name'] for poke_type in data['types']]\n",
    "                self.sprite = self.get_sprite(data)\n",
    "                break\n",
    "            else:\n",
    "                print(f'Invalid Request, status code {res.status_code}, Please enter valid pokemon')\n",
    "                self.update_pokemon()\n",
    "            \n",
    "    def update_pokemon(self):\n",
    "        self.name = input('Pokemon name: ')\n",
    "\n",
    "    def get_sprite(self, data):\n",
    "        animated = data['sprites']['versions']['generation-v']['black-white']['animated']['front_default']\n",
    "        return animated if animated else data['sprites']['front_default']\n",
    "\n",
    "    def display_img(self):\n",
    "        display(Image(self.sprite, width = 75))\n",
    "        \n",
    "    def display_info(self):\n",
    "        print(f'{self.name} Weight: {self.weight}')\n",
    "        print('Types: ')\n",
    "        for poke_type in self.types:\n",
    "            print(poke_type)\n",
    "        print('Abilities: ')\n",
    "        for ability in self.abilities:\n",
    "            print(ability)\n",
    "        self.display_img()\n",
    "        \n",
    "    def poke_evolve(self):\n",
    "        poke_to_evolve = input('What Pokemon would you like to evolve?: ')\n",
    "        if poke_to_evolve in self.name:\n",
    "            res_evo = get(f'https://pokeapi.co/api/v2/pokemon/{poke_to_evolve}')\n",
    "            if res_evo.ok:\n",
    "                data_evo = res_evo.json()\n",
    "                self.res_species_url = get(data_evo['species']['url'])\n",
    "                if self.res_species_url.ok:\n",
    "                    self.data_species_url = self.res_species_url.json()\n",
    "                    self.res_evo_chain_url = get(self.data_species_url['evolution_chain']['url'])\n",
    "                    if self.res_evo_chain_url.ok:\n",
    "                        self.data_evo_chain = self.res_evo_chain_url.json()   \n",
    "                        self.res_chain = self.data_evo_chain['chain']['evolves_to'][0]['species']['name']\n",
    "                        while True:    \n",
    "                            if  self.res_chain == poke_to_evolve:\n",
    "                                self.res_chain = self.data_evo_chain['chain']['evolves_to'][0]['evolves_to'][0]['species']['name']\n",
    "                            else:\n",
    "                                print(f'{poke_to_evolve} has evolved into {self.res_chain}')\n",
    "                                pokemon = self.res_chain\n",
    "                                pokemon = Pokemon(pokemon)\n",
    "                                pokemon.poke_api_call()\n",
    "                                pokemon.display_info()\n",
    "                                break                            \n",
    "                    else:\n",
    "                        print(f'Invalid Request, status code {res.status_code}, Please enter valid pokemon')\n",
    "                else:\n",
    "                    print(f'Invalid Request, status code {res.status_code}, Please enter valid pokemon')\n",
    "        else:\n",
    "            print(f'You don\\'t have a Pokemon named {poke_to_evolve}')\n",
    "            self.poke_evolve()\n",
    "\n",
    "psyduck = Pokemon('psyduck')\n",
    "print(psyduck)\n",
    "print(psyduck.abilities)\n",
    "print(psyduck.types)\n",
    "psyduck.display_img()"
   ]
  },
  {
   "cell_type": "code",
   "execution_count": null,
   "metadata": {},
   "outputs": [],
   "source": []
  },
  {
   "cell_type": "code",
   "execution_count": null,
   "metadata": {},
   "outputs": [],
   "source": []
  },
  {
   "cell_type": "markdown",
   "metadata": {},
   "source": [
    "## Exercise 2:"
   ]
  },
  {
   "cell_type": "markdown",
   "metadata": {},
   "source": [
    "### Create a Method that evolves your Pokemon\n",
    "If your pokemon can't evolve any further print a message that says \"\\<name of pokemon> can't evolve.\""
   ]
  },
  {
   "cell_type": "code",
   "execution_count": null,
   "metadata": {},
   "outputs": [],
   "source": [
    "# Create a method for your Pokemon class that takes in user input, \n",
    "# to ask what new pokemon your current pokemon should evolve into."
   ]
  },
  {
   "cell_type": "code",
   "execution_count": null,
   "metadata": {},
   "outputs": [],
   "source": [
    "from requests import get\n",
    "\n",
    "class Pokemon():\n",
    "    \n",
    "    def __init__(self, pokemon):\n",
    "        self.name = pokemon\n",
    "        self.weight = None\n",
    "        self.abilities = []\n",
    "        self.types = []\n",
    "        self.sprite = None\n",
    "        self.evo_chain = []\n",
    "        self.poke_api_call()\n",
    "        \n",
    "    def __repr__(self):\n",
    "        return f'<Pokemon: {self.name}>'\n",
    "    \n",
    "    def poke_api_call(self):\n",
    "        while True:\n",
    "            res = get(f'https://pokeapi.co/api/v2/pokemon/{self.name}')\n",
    "            if res.ok:\n",
    "                data = res.json()\n",
    "                self.name = data['name']\n",
    "                self.weight = data['weight']\n",
    "                self.abilities = [ability['ability']['name'] for ability in data['abilities']]\n",
    "                self.types = [poke_type['type']['name'] for poke_type in data['types']]\n",
    "                self.sprite = self.get_sprite(data)\n",
    "                break\n",
    "            else:\n",
    "                print(f'Invalid Request, status code {res.status_code}, Please enter valid pokemon')\n",
    "                self.update_pokemon()\n",
    "        if not self.evo_chain:\n",
    "          self.find_evo_chain(data['species']['url'])\n",
    "            \n",
    "    def update_pokemon(self):\n",
    "        self.name = input('Pokemon name: ')\n",
    "        \n",
    "    def get_sprite(self, data):\n",
    "        animated = data['sprites']['versions']['generation-v']['black-white']['animated']['front_default']\n",
    "        return animated if animated else data['sprites']['front_default']\n",
    "        \n",
    "    def display_info(self):\n",
    "        print(f'{self.name} Weight: {self.weight}')\n",
    "        print('Types: ')\n",
    "        for poke_type in self.types:\n",
    "            print(poke_type)\n",
    "        print('Abilities: ')\n",
    "        for ability in self.abilities:\n",
    "            print(ability)\n",
    "        # self.display_img()\n",
    "        \n",
    "    def find_evo_chain(self, species_url):\n",
    "        res = get(species_url)\n",
    "        if res.ok:\n",
    "            data = res.json()\n",
    "            res = get(data['evolution_chain']['url'])\n",
    "            if res.ok:\n",
    "                data = res.json()\n",
    "                self.populate_evo_chain(data['chain'])\n",
    "                return\n",
    "        print('Try again')\n",
    "    \n",
    "    def populate_evo_chain(self, evo_chain):\n",
    "        self.evo_chain.append(evo_chain['species']['name'])\n",
    "        if evo_chain['evolves_to']:\n",
    "          self.populate_evo_chain(evo_chain['evolves_to'][0])\n",
    "        else:\n",
    "            print(self.evo_chain)\n",
    "    \n",
    "    def evolve(self):\n",
    "        for i, pokemon in enumerate(self.evo_chain):\n",
    "            if pokemon == self.name:\n",
    "              if len(self.evo_chain) - 1 != i:\n",
    "                 self.name = self.evo_chain[i + 1]\n",
    "                 self.poke_api_call()\n",
    "                 self.display_info()\n",
    "                 break\n",
    "              else:\n",
    "                  print('This is your final form')\n",
    "    \n",
    "pokemon = Pokemon('bulbasaur')\n",
    "pokemon.evolve()\n",
    "pokemon.evolve()\n",
    "pokemon.evolve()"
   ]
  },
  {
   "cell_type": "markdown",
   "metadata": {},
   "source": [
    "Now let's evolve a few"
   ]
  },
  {
   "cell_type": "code",
   "execution_count": null,
   "metadata": {
    "scrolled": true
   },
   "outputs": [],
   "source": [
    "\n",
    "\n"
   ]
  },
  {
   "cell_type": "code",
   "execution_count": null,
   "metadata": {},
   "outputs": [],
   "source": [
    "\n"
   ]
  },
  {
   "cell_type": "code",
   "execution_count": null,
   "metadata": {},
   "outputs": [],
   "source": [
    "\n",
    "\n"
   ]
  },
  {
   "cell_type": "code",
   "execution_count": null,
   "metadata": {},
   "outputs": [],
   "source": [
    "\n",
    "\n",
    "# <Pokemon: charmander>\n",
    "# ['blaze', 'solar-power']\n",
    "# ['fire']\n",
    "\n",
    "# <IPython.core.display.Image object>\n",
    "\n",
    "# What Pokemon would you like to evolve?: charmander\n",
    "# charmander has evolved into charmeleon\n",
    "# charmeleon Weight: 190\n",
    "# Types: \n",
    "# fire\n",
    "# Abilities: \n",
    "# blaze\n",
    "# solar-power\n",
    "\n",
    "# <IPython.core.display.Image object>\n",
    "\n"
   ]
  },
  {
   "cell_type": "markdown",
   "metadata": {},
   "source": [
    "#  Final Exercise (Optional): <br> <br>Create a Move_Tutor Class that will allow the Pokemon Class to inherit a move list.\n",
    "<br>\n",
    "<p>for an added bonus you can make sure that if a pokemon has 4 moves the user can choose one of them to replace with a new move. </p>"
   ]
  },
  {
   "cell_type": "code",
   "execution_count": null,
   "metadata": {},
   "outputs": [],
   "source": [
    "def user_evolve(self):\n",
    "    new_poke_name = input(\"Enter the name of the Pokemon you want to evolve to: \").strip().lower()\n",
    "\n",
    "    res = get(f\"https://pokeapi.co/api/v2/pokemon/{new_pokeman_name}\")\n",
    "\n",
    "    if res.ok:\n",
    "        self.name = new_poke_name\n",
    "        self.poke_api_call()\n",
    "        print(f\"You Pokemon evolved into {self.name}!\")\n",
    "    else:\n",
    "        print(f\"Invalid Name.  Please provide a valid name.\")\n"
   ]
  },
  {
   "cell_type": "code",
   "execution_count": null,
   "metadata": {},
   "outputs": [],
   "source": []
  },
  {
   "cell_type": "code",
   "execution_count": null,
   "metadata": {},
   "outputs": [],
   "source": [
    "pikachu.teach_move()\n"
   ]
  },
  {
   "cell_type": "code",
   "execution_count": null,
   "metadata": {},
   "outputs": [],
   "source": [
    "pikachu.show_moves()"
   ]
  }
 ],
 "metadata": {
  "kernelspec": {
   "display_name": "Python 3 (ipykernel)",
   "language": "python",
   "name": "python3"
  },
  "language_info": {
   "codemirror_mode": {
    "name": "ipython",
    "version": 3
   },
   "file_extension": ".py",
   "mimetype": "text/x-python",
   "name": "python",
   "nbconvert_exporter": "python",
   "pygments_lexer": "ipython3",
   "version": "3.11.4"
  }
 },
 "nbformat": 4,
 "nbformat_minor": 4
}
